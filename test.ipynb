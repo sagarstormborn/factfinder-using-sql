{
 "cells": [
  {
   "cell_type": "code",
   "execution_count": 1,
   "metadata": {},
   "outputs": [
    {
     "name": "stdout",
     "output_type": "stream",
     "text": [
      "Before update: ['a', 'b', 'c']\n",
      "After update: ['a', 'b', 'c', 'd']\n"
     ]
    }
   ],
   "source": [
    "import ast\n",
    "\n",
    "def read_list_from_file(filename):\n",
    "    \"\"\"Reads a list from a file and returns it.\"\"\"\n",
    "    try:\n",
    "        with open(filename, 'r') as file:\n",
    "            content = file.read()\n",
    "            return ast.literal_eval(content)  # Safely convert string to list\n",
    "    except (FileNotFoundError, SyntaxError, ValueError):\n",
    "        return []  # Return empty list if file doesn't exist or is invalid\n",
    "\n",
    "def update_list_in_file(filename, new_list):\n",
    "    \"\"\"Writes a list to a file.\"\"\"\n",
    "    with open(filename, 'w') as file:\n",
    "        file.write(str(new_list))  # Convert list to string before writing\n",
    "\n",
    "# Example usage:\n",
    "file_path = '/home/sagar/Desktop/Coding/my_github/factfinder-using-sql/default_table.txt'\n",
    "my_list = read_list_from_file(file_path)\n",
    "print(\"Before update:\", my_list)\n",
    "\n",
    "my_list.append('d')  # Modify list\n",
    "update_list_in_file(file_path, my_list)\n",
    "\n",
    "updated_list = read_list_from_file(file_path)\n",
    "print(\"After update:\", updated_list)\n"
   ]
  },
  {
   "cell_type": "code",
   "execution_count": null,
   "metadata": {},
   "outputs": [],
   "source": []
  }
 ],
 "metadata": {
  "kernelspec": {
   "display_name": "py310_env",
   "language": "python",
   "name": "python3"
  },
  "language_info": {
   "codemirror_mode": {
    "name": "ipython",
    "version": 3
   },
   "file_extension": ".py",
   "mimetype": "text/x-python",
   "name": "python",
   "nbconvert_exporter": "python",
   "pygments_lexer": "ipython3",
   "version": "3.10.16"
  }
 },
 "nbformat": 4,
 "nbformat_minor": 2
}

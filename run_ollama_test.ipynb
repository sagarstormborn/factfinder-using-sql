{
 "cells": [
  {
   "cell_type": "code",
   "execution_count": 5,
   "metadata": {},
   "outputs": [],
   "source": [
    "from llama_index.llms.ollama import Ollama\n",
    "\n",
    "# Initialize the first model\n",
    "llm1 = Ollama(model=\"qwen2.5:72b\", request_timeout=120.0)\n",
    "\n",
    "# Initialize the second model\n",
    "llm2 = Ollama(model=\"deepseek-r1:70b\", request_timeout=120.0)\n"
   ]
  },
  {
   "cell_type": "code",
   "execution_count": 12,
   "metadata": {},
   "outputs": [],
   "source": [
    "def query_models(prompt):\n",
    "    # Query the first model\n",
    "    response1 = llm1.complete(prompt)\n",
    "\n",
    "    # Query the second model\n",
    "    response2 = llm2.complete(prompt)\n",
    "\n",
    "    return response1, response2\n"
   ]
  },
  {
   "cell_type": "code",
   "execution_count": 13,
   "metadata": {},
   "outputs": [
    {
     "name": "stdout",
     "output_type": "stream",
     "text": [
      "Response from Model 1: Bonjour, comment vas-tu ?\n",
      "Response from Model 2: <think>\n",
      "Okay, so I need to translate \"Hello, how are you?\" into French. Hmm, where do I start? Well, first, let's break down each part of the sentence.\n",
      "\n",
      "\"Hello\" is a greeting, right? In French, that's typically \"Bonjour.\" That seems straightforward enough. Now, the second part is \"how are you?\" which is a question asking about someone's well-being. I remember that in French, this translates to \"Comment ça va?\" But wait, there might be other ways to say it too, like \"Comment allez-vous?\" which is more formal.\n",
      "\n",
      "Wait, but the original sentence uses \"you,\" and depending on whether it's formal or informal, the translation changes. In English, \"how are you?\" can be both, but in French, there's a distinction between \"tu\" and \"vous.\" Since the user didn't specify, maybe I should go with the more common informal version, which is \"Comment ça va?\"\n",
      "\n",
      "Putting it all together, that would make the translation \"Bonjour, comment ça va?\" But hold on, sometimes in French, people might just say \"Bonjour, ça va?\" without the \"comment.\" Is that correct? Or does it need the \"comment\"?\n",
      "\n",
      "I think both are acceptable. \"Bonjour, comment ça va?\" is a bit more precise, asking how someone is doing, while \"Bonjour, ça va?\" is shorter but still conveys the same question. However, in formal situations or when speaking to someone you don't know well, \"Comment allez-vous?\" would be more appropriate.\n",
      "\n",
      "So considering that, if I'm translating for a general audience without knowing the context, maybe it's safer to go with the informal version since \"Hello\" is also an informal greeting. Therefore, \"Bonjour, comment ça va?\" seems right.\n",
      "\n",
      "Wait, but sometimes in French, they might just say \"Salut, comment ça va?\" since \"salut\" is a more casual hello among friends. But \"Bonjour\" is more standard and polite, so sticking with that makes sense for a translation without specific context.\n",
      "\n",
      "Alright, I think I've got it figured out. The translation should be \"Bonjour, comment ça va?\"\n",
      "</think>\n",
      "\n",
      "The translation of \"Hello, how are you?\" into French is:\n",
      "\n",
      "**Bonjour, comment ça va?**\n",
      "\n",
      "This greeting combines the standard polite greeting \"Bonjour\" with the informal question about well-being, making it suitable for general use without specific context.\n"
     ]
    }
   ],
   "source": [
    "prompt = \"Translate the following English text to French: 'Hello, how are you?'\"\n",
    "response1, response2 = query_models(prompt)\n",
    "\n",
    "print(\"Response from Model 1:\", response1)\n",
    "print(\"Response from Model 2:\", response2)\n"
   ]
  },
  {
   "cell_type": "code",
   "execution_count": null,
   "metadata": {},
   "outputs": [],
   "source": []
  }
 ],
 "metadata": {
  "kernelspec": {
   "display_name": "factfinder",
   "language": "python",
   "name": "python3"
  },
  "language_info": {
   "codemirror_mode": {
    "name": "ipython",
    "version": 3
   },
   "file_extension": ".py",
   "mimetype": "text/x-python",
   "name": "python",
   "nbconvert_exporter": "python",
   "pygments_lexer": "ipython3",
   "version": "3.9.21"
  }
 },
 "nbformat": 4,
 "nbformat_minor": 2
}
